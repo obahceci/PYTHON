{
 "cells": [
  {
   "cell_type": "code",
   "execution_count": 6,
   "metadata": {},
   "outputs": [
    {
     "ename": "ValueError",
     "evalue": "invalid literal for int() with base 10: '20a'",
     "output_type": "error",
     "traceback": [
      "\u001b[1;31m---------------------------------------------------------------------------\u001b[0m",
      "\u001b[1;31mValueError\u001b[0m                                Traceback (most recent call last)",
      "Cell \u001b[1;32mIn[6], line 2\u001b[0m\n\u001b[0;32m      1\u001b[0m x \u001b[38;5;241m=\u001b[39m \u001b[38;5;28mint\u001b[39m(\u001b[38;5;28minput\u001b[39m(\u001b[38;5;124m\"\u001b[39m\u001b[38;5;124mx:\u001b[39m\u001b[38;5;124m\"\u001b[39m))   \u001b[38;5;66;03m#x= 10\u001b[39;00m\n\u001b[1;32m----> 2\u001b[0m y\u001b[38;5;241m=\u001b[39m \u001b[38;5;28;43mint\u001b[39;49m\u001b[43m(\u001b[49m\u001b[38;5;28;43minput\u001b[39;49m\u001b[43m(\u001b[49m\u001b[38;5;124;43m'\u001b[39;49m\u001b[38;5;124;43my: \u001b[39;49m\u001b[38;5;124;43m'\u001b[39;49m\u001b[43m)\u001b[49m\u001b[43m)\u001b[49m   \u001b[38;5;66;03m#y =20a\u001b[39;00m\n",
      "\u001b[1;31mValueError\u001b[0m: invalid literal for int() with base 10: '20a'"
     ]
    }
   ],
   "source": [
    "x = int(input(\"x:\"))   #x= 10\n",
    "y= int(input('y: '))   #y =20a"
   ]
  },
  {
   "cell_type": "markdown",
   "metadata": {},
   "source": [
    "int türüne uygun olmayan bir parametre\n"
   ]
  },
  {
   "cell_type": "code",
   "execution_count": 7,
   "metadata": {},
   "outputs": [
    {
     "name": "stdout",
     "output_type": "stream",
     "text": [
      "hata oluştu\n"
     ]
    }
   ],
   "source": [
    "try:\n",
    "    x = int(input(\"x:\"))   \n",
    "    y= int(input('y: '))\n",
    "    print(x+y)\n",
    "except:\n",
    "    print(\"hata oluştu\")\n",
    "    "
   ]
  },
  {
   "cell_type": "markdown",
   "metadata": {},
   "source": [
    "try except bloklarıyla hatalı kısım varsa except kısmını yazdırır yoksa try bloğunu okumaya devam eder "
   ]
  },
  {
   "cell_type": "code",
   "execution_count": 8,
   "metadata": {},
   "outputs": [
    {
     "ename": "ZeroDivisionError",
     "evalue": "division by zero",
     "output_type": "error",
     "traceback": [
      "\u001b[1;31m---------------------------------------------------------------------------\u001b[0m",
      "\u001b[1;31mZeroDivisionError\u001b[0m                         Traceback (most recent call last)",
      "Cell \u001b[1;32mIn[8], line 5\u001b[0m\n\u001b[0;32m      3\u001b[0m x\u001b[38;5;241m=\u001b[39m \u001b[38;5;28mint\u001b[39m(\u001b[38;5;28minput\u001b[39m(\u001b[38;5;124m\"\u001b[39m\u001b[38;5;124mx: \u001b[39m\u001b[38;5;124m\"\u001b[39m))\n\u001b[0;32m      4\u001b[0m y\u001b[38;5;241m=\u001b[39m \u001b[38;5;28mint\u001b[39m(\u001b[38;5;28minput\u001b[39m(\u001b[38;5;124m\"\u001b[39m\u001b[38;5;124my: \u001b[39m\u001b[38;5;124m\"\u001b[39m))\n\u001b[1;32m----> 5\u001b[0m \u001b[38;5;28mprint\u001b[39m(\u001b[43mx\u001b[49m\u001b[38;5;241;43m/\u001b[39;49m\u001b[43my\u001b[49m)\n",
      "\u001b[1;31mZeroDivisionError\u001b[0m: division by zero"
     ]
    }
   ],
   "source": [
    "#HATA TÜRLERİ \n",
    "\n",
    "x= int(input(\"x: \"))  #10\n",
    "y= int(input(\"y: \")) # 0 \n",
    "print(x/y)\n"
   ]
  },
  {
   "cell_type": "code",
   "execution_count": 9,
   "metadata": {},
   "outputs": [
    {
     "ename": "SyntaxError",
     "evalue": "invalid syntax (3073345513.py, line 2)",
     "output_type": "error",
     "traceback": [
      "\u001b[1;36m  Cell \u001b[1;32mIn[9], line 2\u001b[1;36m\u001b[0m\n\u001b[1;33m    def yazdir(:\u001b[0m\n\u001b[1;37m               ^\u001b[0m\n\u001b[1;31mSyntaxError\u001b[0m\u001b[1;31m:\u001b[0m invalid syntax\n"
     ]
    }
   ],
   "source": [
    "#SYTANX ERROR   \n",
    "def yazdir(:\n",
    "    pass\n"
   ]
  },
  {
   "cell_type": "markdown",
   "metadata": {},
   "source": [
    "değişken,fonksiyon isimleri ya da formatında yanlış ya da eksik yazım vrsa karşımıza çıkaer "
   ]
  },
  {
   "cell_type": "code",
   "execution_count": 12,
   "metadata": {},
   "outputs": [
    {
     "ename": "NameError",
     "evalue": "name 'a' is not defined",
     "output_type": "error",
     "traceback": [
      "\u001b[1;31m---------------------------------------------------------------------------\u001b[0m",
      "\u001b[1;31mNameError\u001b[0m                                 Traceback (most recent call last)",
      "Cell \u001b[1;32mIn[12], line 3\u001b[0m\n\u001b[0;32m      1\u001b[0m \u001b[38;5;66;03m# NAME ERROR\u001b[39;00m\n\u001b[1;32m----> 3\u001b[0m \u001b[38;5;28mprint\u001b[39m(\u001b[43ma\u001b[49m) \n",
      "\u001b[1;31mNameError\u001b[0m: name 'a' is not defined"
     ]
    }
   ],
   "source": [
    "# NAME ERROR\n",
    "\n",
    "print(a) "
   ]
  },
  {
   "cell_type": "markdown",
   "metadata": {},
   "source": [
    "tanımlanmamış  bir değişken kullanımı "
   ]
  },
  {
   "cell_type": "code",
   "execution_count": 14,
   "metadata": {},
   "outputs": [
    {
     "ename": "TypeError",
     "evalue": "unsupported operand type(s) for +: 'int' and 'str'",
     "output_type": "error",
     "traceback": [
      "\u001b[1;31m---------------------------------------------------------------------------\u001b[0m",
      "\u001b[1;31mTypeError\u001b[0m                                 Traceback (most recent call last)",
      "Cell \u001b[1;32mIn[14], line 2\u001b[0m\n\u001b[0;32m      1\u001b[0m \u001b[38;5;66;03m#TYPR ERROR \u001b[39;00m\n\u001b[1;32m----> 2\u001b[0m \u001b[38;5;28mprint\u001b[39m(\u001b[38;5;241;43m4\u001b[39;49m\u001b[38;5;241;43m+\u001b[39;49m\u001b[43m \u001b[49m\u001b[38;5;124;43m'\u001b[39;49m\u001b[38;5;124;43ma\u001b[39;49m\u001b[38;5;124;43m'\u001b[39;49m)\n",
      "\u001b[1;31mTypeError\u001b[0m: unsupported operand type(s) for +: 'int' and 'str'"
     ]
    }
   ],
   "source": [
    "#TYPR ERROR \n",
    "print(4+ 'a')"
   ]
  },
  {
   "cell_type": "markdown",
   "metadata": {},
   "source": [
    "hatalı parametre kullanımı "
   ]
  },
  {
   "cell_type": "code",
   "execution_count": 15,
   "metadata": {},
   "outputs": [
    {
     "ename": "IndexError",
     "evalue": "list index out of range",
     "output_type": "error",
     "traceback": [
      "\u001b[1;31m---------------------------------------------------------------------------\u001b[0m",
      "\u001b[1;31mIndexError\u001b[0m                                Traceback (most recent call last)",
      "Cell \u001b[1;32mIn[15], line 3\u001b[0m\n\u001b[0;32m      1\u001b[0m \u001b[38;5;66;03m#INDEX ERROR\u001b[39;00m\n\u001b[0;32m      2\u001b[0m liste\u001b[38;5;241m=\u001b[39m[\u001b[38;5;241m3\u001b[39m,\u001b[38;5;241m4\u001b[39m,\u001b[38;5;241m5\u001b[39m,\u001b[38;5;241m6\u001b[39m]\n\u001b[1;32m----> 3\u001b[0m \u001b[38;5;28mprint\u001b[39m(\u001b[43mliste\u001b[49m\u001b[43m[\u001b[49m\u001b[38;5;241;43m7\u001b[39;49m\u001b[43m]\u001b[49m)\n",
      "\u001b[1;31mIndexError\u001b[0m: list index out of range"
     ]
    }
   ],
   "source": [
    "#INDEX ERROR\n",
    "liste=[3,4,5,6]\n",
    "print(liste[7])"
   ]
  },
  {
   "cell_type": "markdown",
   "metadata": {},
   "source": [
    "aralık dışında index "
   ]
  },
  {
   "cell_type": "code",
   "execution_count": 16,
   "metadata": {},
   "outputs": [
    {
     "ename": "KeyError",
     "evalue": "'ad'",
     "output_type": "error",
     "traceback": [
      "\u001b[1;31m---------------------------------------------------------------------------\u001b[0m",
      "\u001b[1;31mKeyError\u001b[0m                                  Traceback (most recent call last)",
      "Cell \u001b[1;32mIn[16], line 3\u001b[0m\n\u001b[0;32m      1\u001b[0m \u001b[38;5;66;03m#key error\u001b[39;00m\n\u001b[0;32m      2\u001b[0m d\u001b[38;5;241m=\u001b[39m{}\n\u001b[1;32m----> 3\u001b[0m \u001b[38;5;28mprint\u001b[39m(\u001b[43md\u001b[49m\u001b[43m[\u001b[49m\u001b[38;5;124;43m\"\u001b[39;49m\u001b[38;5;124;43mad\u001b[39;49m\u001b[38;5;124;43m\"\u001b[39;49m\u001b[43m]\u001b[49m)\n",
      "\u001b[1;31mKeyError\u001b[0m: 'ad'"
     ]
    }
   ],
   "source": [
    "#key error\n",
    "d={}\n",
    "print(d[\"ad\"])"
   ]
  },
  {
   "cell_type": "code",
   "execution_count": 17,
   "metadata": {},
   "outputs": [
    {
     "ename": "AttributeError",
     "evalue": "'str' object has no attribute 'uPper'",
     "output_type": "error",
     "traceback": [
      "\u001b[1;31m---------------------------------------------------------------------------\u001b[0m",
      "\u001b[1;31mAttributeError\u001b[0m                            Traceback (most recent call last)",
      "Cell \u001b[1;32mIn[17], line 2\u001b[0m\n\u001b[0;32m      1\u001b[0m \u001b[38;5;66;03m#Attribute Error\u001b[39;00m\n\u001b[1;32m----> 2\u001b[0m \u001b[38;5;124;43m\"\u001b[39;49m\u001b[38;5;124;43mmerhaba\u001b[39;49m\u001b[38;5;124;43m\"\u001b[39;49m\u001b[38;5;241;43m.\u001b[39;49m\u001b[43muPper\u001b[49m()\n",
      "\u001b[1;31mAttributeError\u001b[0m: 'str' object has no attribute 'uPper'"
     ]
    }
   ],
   "source": [
    "#Attribute Error\n",
    "\"merhaba\".uPper()"
   ]
  },
  {
   "cell_type": "markdown",
   "metadata": {},
   "source": [
    "olmayan bir özelliğe ulaşmak isrtediğimizde "
   ]
  },
  {
   "cell_type": "code",
   "execution_count": null,
   "metadata": {},
   "outputs": [
    {
     "name": "stdout",
     "output_type": "stream",
     "text": [
      "x ve y sayısal bir değer olmalıdır\n"
     ]
    }
   ],
   "source": [
    "#HATA YÖNETİMİ\n",
    "\n",
    "try:\n",
    "    x=int(input(\"x: \"))  #10\n",
    "    y=int(input(\"y: \"))  #0\n",
    "    print(x/y)\n",
    "except ZeroDivisionError:\n",
    "    print(\"y sıfır olamaz\")\n",
    "except ValueError:\n",
    "    print(\"x ve y sayısal bir değer olmalıdır\")\n",
    "except:\n",
    "    print(\"bilinmeyen bir hata oluştu\")\n",
    "   "
   ]
  },
  {
   "cell_type": "code",
   "execution_count": 26,
   "metadata": {},
   "outputs": [
    {
     "name": "stdout",
     "output_type": "stream",
     "text": [
      "bir hata oluştu\n",
      "division by zero\n",
      "İşlem hatasız sonuçlanmıştır\n",
      "bir hata oluştu\n",
      "invalid literal for int() with base 10: '2a'\n",
      "İşlem hatasız sonuçlanmıştır\n",
      "1.0\n",
      "İşlem hatasız sonuçlanmıştır\n"
     ]
    }
   ],
   "source": [
    "while True:\n",
    "    try:\n",
    "     x=int(input(\"x: \"))  #10\n",
    "     y=int(input(\"y: \"))  #0\n",
    "     print(x/y)\n",
    "\n",
    "    except Exception as e:\n",
    "        print(\"bir hata oluştu\")\n",
    "        print(e)\n",
    "    else:\n",
    "       break\n",
    "    finally:\n",
    "       print(\"İşlem hatasız sonuçlanmıştır\")"
   ]
  },
  {
   "cell_type": "code",
   "execution_count": null,
   "metadata": {},
   "outputs": [],
   "source": [
    "liste=[\"1\",\"2\",\"5a\",\"10b\",\"abc,\",\"10\",\"50\"]\n",
    "\n",
    "for x in liste:\n",
    "    try:\n",
    "        sonuc= int(x)\n",
    "        print(sonuc)\n",
    "    except ValueError:\n",
    "        continue"
   ]
  },
  {
   "cell_type": "code",
   "execution_count": 31,
   "metadata": {},
   "outputs": [
    {
     "name": "stdout",
     "output_type": "stream",
     "text": [
      "geçersiz renk ismi\n"
     ]
    }
   ],
   "source": [
    "\n",
    "def colorize(text,color):\n",
    "    colors=(\"blue\",\"red\",\"white\",\"black\",\"orange\")\n",
    "    if type(color)is not str:\n",
    "        raise TypeError(\"renk string tipinde olmalıdır\")\n",
    "    if type(text) is not str:\n",
    "        raise TypeError(\"text string tipinde olmalıdır \")\n",
    "    if color not in colors:\n",
    "        raise ValueError(\"geçersiz renk ismi\")\n",
    "\n",
    "    \n",
    "#colorize(\"merhaba\",10)\n",
    "#colorize(\"selam\",\"blue\")   #doğru çalışır\n",
    "\n",
    "try:\n",
    "    colorize(\"selam\",\"yellow\")\n",
    "except Exception as e:\n",
    "    print(e)\n"
   ]
  },
  {
   "cell_type": "code",
   "execution_count": 1,
   "metadata": {},
   "outputs": [
    {
     "name": "stdout",
     "output_type": "stream",
     "text": [
      "factorial of 5 is 120\n",
      "factorial of 7 is 5040\n",
      "factorial of 2 is 2\n",
      "negatif değer olamaz\n",
      "invalid literal for int() with base 10: '10a'\n"
     ]
    }
   ],
   "source": [
    "def factorial(x):\n",
    "    x= int(x)\n",
    "\n",
    "    if(x<0):\n",
    "        raise ValueError(\"negatif değer olamaz\")\n",
    "    sonuc=1\n",
    "    for i in range(1,x+1):\n",
    "        sonuc *=i\n",
    "    return sonuc\n",
    "\n",
    "for i in[5,7,2,-4,\"10a\"]:\n",
    "    try:\n",
    "        x=factorial(i)\n",
    "    except ValueError as e:\n",
    "        print(e)\n",
    "        continue\n",
    "    \n",
    "    print(f\"factorial of {i} is {x}\")\n"
   ]
  },
  {
   "cell_type": "code",
   "execution_count": 40,
   "metadata": {},
   "outputs": [
    {
     "name": "stdout",
     "output_type": "stream",
     "text": [
      "parola türkçe karakter içeremez\n"
     ]
    }
   ],
   "source": [
    "def CheckPassword(passw):\n",
    "    turkce=\"şçğüiöıİ\"\n",
    "\n",
    "    for i in passw:\n",
    "        if i in turkce:\n",
    "            raise TypeError(\"parola türkçe karakter içeremez\")\n",
    "    print(\"geçerli parola\")\n",
    "\n",
    "parola=input(\"parola\")\n",
    "\n",
    "try:\n",
    "    CheckPassword(parola)\n",
    "except TypeError as e :\n",
    "    print(e)\n"
   ]
  }
 ],
 "metadata": {
  "kernelspec": {
   "display_name": "Python 3",
   "language": "python",
   "name": "python3"
  },
  "language_info": {
   "codemirror_mode": {
    "name": "ipython",
    "version": 3
   },
   "file_extension": ".py",
   "mimetype": "text/x-python",
   "name": "python",
   "nbconvert_exporter": "python",
   "pygments_lexer": "ipython3",
   "version": "3.13.0"
  }
 },
 "nbformat": 4,
 "nbformat_minor": 2
}
